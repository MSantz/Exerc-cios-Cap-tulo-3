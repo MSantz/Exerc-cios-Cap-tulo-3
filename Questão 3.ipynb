{
 "cells": [
  {
   "cell_type": "code",
   "execution_count": 1,
   "metadata": {},
   "outputs": [
    {
     "name": "stdout",
     "output_type": "stream",
     "text": [
      "OK\n"
     ]
    }
   ],
   "source": [
    "a, b, c = 3, 4, 5 \n",
    "if a < b:\n",
    "    print('OK')\n",
    "\n",
    "else:\n",
    "    print('NÃO OK')"
   ]
  },
  {
   "cell_type": "code",
   "execution_count": 2,
   "metadata": {},
   "outputs": [
    {
     "name": "stdout",
     "output_type": "stream",
     "text": [
      "NÃO OK\n"
     ]
    }
   ],
   "source": [
    "if c < b:\n",
    "    print('OK')\n",
    "\n",
    "else:\n",
    "    print('NÃO OK')"
   ]
  },
  {
   "cell_type": "code",
   "execution_count": 3,
   "metadata": {},
   "outputs": [
    {
     "name": "stdout",
     "output_type": "stream",
     "text": [
      "NÂO OK\n"
     ]
    }
   ],
   "source": [
    "if a + b == c:\n",
    "    print('OK')\n",
    "else:\n",
    "    print('NÂO OK')"
   ]
  },
  {
   "cell_type": "code",
   "execution_count": 4,
   "metadata": {},
   "outputs": [
    {
     "name": "stdout",
     "output_type": "stream",
     "text": [
      "OK\n"
     ]
    }
   ],
   "source": [
    "if a**2 + b**2 == c**2:\n",
    "    print('OK')\n",
    "\n",
    "else:\n",
    "    print('NÂO OK')"
   ]
  }
 ],
 "metadata": {
  "kernelspec": {
   "display_name": "Python 3",
   "language": "python",
   "name": "python3"
  },
  "language_info": {
   "codemirror_mode": {
    "name": "ipython",
    "version": 3
   },
   "file_extension": ".py",
   "mimetype": "text/x-python",
   "name": "python",
   "nbconvert_exporter": "python",
   "pygments_lexer": "ipython3",
   "version": "3.10.4"
  },
  "orig_nbformat": 4
 },
 "nbformat": 4,
 "nbformat_minor": 2
}
